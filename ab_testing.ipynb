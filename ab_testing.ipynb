{
 "cells": [
  {
   "cell_type": "markdown",
   "metadata": {},
   "source": [
    "# **A/B Testing of Advertising Agency Data**\n",
    "### Examining user engagement across control and experiment advertisements\n",
    "##### Table of contents\n",
    "1. Previewing data\n",
    "2. Formulating hypothesis\n",
    "3. Determining independent and dependent variables\n",
    "4. Preparing data\n",
    "5. Testing hypothesis\n",
    "6. Reviewing results"
   ]
  },
  {
   "cell_type": "markdown",
   "metadata": {},
   "source": [
    "##### Previewing data"
   ]
  },
  {
   "cell_type": "code",
   "execution_count": 50,
   "metadata": {},
   "outputs": [],
   "source": [
    "import pandas as pd\n",
    "import numpy as np\n",
    "\n",
    "from scipy import stats\n",
    "from statsmodels.stats.proportion import (\n",
    "    proportions_ztest, proportion_confint\n",
    ")"
   ]
  },
  {
   "cell_type": "code",
   "execution_count": 41,
   "metadata": {},
   "outputs": [
    {
     "data": {
      "text/plain": [
       "(8077, 9)"
      ]
     },
     "execution_count": 41,
     "metadata": {},
     "output_type": "execute_result"
    }
   ],
   "source": [
    "# Load data\n",
    "data = pd.read_csv(\"data/ad_agency_data.csv\")\n",
    "\n",
    "# Show data shape\n",
    "data.shape"
   ]
  },
  {
   "cell_type": "code",
   "execution_count": 42,
   "metadata": {},
   "outputs": [
    {
     "data": {
      "text/html": [
       "<div>\n",
       "<style scoped>\n",
       "    .dataframe tbody tr th:only-of-type {\n",
       "        vertical-align: middle;\n",
       "    }\n",
       "\n",
       "    .dataframe tbody tr th {\n",
       "        vertical-align: top;\n",
       "    }\n",
       "\n",
       "    .dataframe thead th {\n",
       "        text-align: right;\n",
       "    }\n",
       "</style>\n",
       "<table border=\"1\" class=\"dataframe\">\n",
       "  <thead>\n",
       "    <tr style=\"text-align: right;\">\n",
       "      <th></th>\n",
       "      <th>auction_id</th>\n",
       "      <th>experiment</th>\n",
       "      <th>date</th>\n",
       "      <th>hour</th>\n",
       "      <th>device_make</th>\n",
       "      <th>platform_os</th>\n",
       "      <th>browser</th>\n",
       "      <th>yes</th>\n",
       "      <th>no</th>\n",
       "    </tr>\n",
       "  </thead>\n",
       "  <tbody>\n",
       "    <tr>\n",
       "      <th>0</th>\n",
       "      <td>0008ef63-77a7-448b-bd1e-075f42c55e39</td>\n",
       "      <td>exposed</td>\n",
       "      <td>2020-07-10</td>\n",
       "      <td>8</td>\n",
       "      <td>Generic Smartphone</td>\n",
       "      <td>6</td>\n",
       "      <td>Chrome Mobile</td>\n",
       "      <td>0</td>\n",
       "      <td>0</td>\n",
       "    </tr>\n",
       "    <tr>\n",
       "      <th>1</th>\n",
       "      <td>000eabc5-17ce-4137-8efe-44734d914446</td>\n",
       "      <td>exposed</td>\n",
       "      <td>2020-07-07</td>\n",
       "      <td>10</td>\n",
       "      <td>Generic Smartphone</td>\n",
       "      <td>6</td>\n",
       "      <td>Chrome Mobile</td>\n",
       "      <td>0</td>\n",
       "      <td>0</td>\n",
       "    </tr>\n",
       "    <tr>\n",
       "      <th>2</th>\n",
       "      <td>0016d14a-ae18-4a02-a204-6ba53b52f2ed</td>\n",
       "      <td>exposed</td>\n",
       "      <td>2020-07-05</td>\n",
       "      <td>2</td>\n",
       "      <td>E5823</td>\n",
       "      <td>6</td>\n",
       "      <td>Chrome Mobile WebView</td>\n",
       "      <td>0</td>\n",
       "      <td>1</td>\n",
       "    </tr>\n",
       "    <tr>\n",
       "      <th>3</th>\n",
       "      <td>00187412-2932-4542-a8ef-3633901c98d9</td>\n",
       "      <td>control</td>\n",
       "      <td>2020-07-03</td>\n",
       "      <td>15</td>\n",
       "      <td>Samsung SM-A705FN</td>\n",
       "      <td>6</td>\n",
       "      <td>Facebook</td>\n",
       "      <td>0</td>\n",
       "      <td>0</td>\n",
       "    </tr>\n",
       "    <tr>\n",
       "      <th>4</th>\n",
       "      <td>001a7785-d3fe-4e11-a344-c8735acacc2c</td>\n",
       "      <td>control</td>\n",
       "      <td>2020-07-03</td>\n",
       "      <td>15</td>\n",
       "      <td>Generic Smartphone</td>\n",
       "      <td>6</td>\n",
       "      <td>Chrome Mobile</td>\n",
       "      <td>0</td>\n",
       "      <td>0</td>\n",
       "    </tr>\n",
       "  </tbody>\n",
       "</table>\n",
       "</div>"
      ],
      "text/plain": [
       "                             auction_id experiment        date  hour  \\\n",
       "0  0008ef63-77a7-448b-bd1e-075f42c55e39    exposed  2020-07-10     8   \n",
       "1  000eabc5-17ce-4137-8efe-44734d914446    exposed  2020-07-07    10   \n",
       "2  0016d14a-ae18-4a02-a204-6ba53b52f2ed    exposed  2020-07-05     2   \n",
       "3  00187412-2932-4542-a8ef-3633901c98d9    control  2020-07-03    15   \n",
       "4  001a7785-d3fe-4e11-a344-c8735acacc2c    control  2020-07-03    15   \n",
       "\n",
       "          device_make  platform_os                browser  yes  no  \n",
       "0  Generic Smartphone            6          Chrome Mobile    0   0  \n",
       "1  Generic Smartphone            6          Chrome Mobile    0   0  \n",
       "2               E5823            6  Chrome Mobile WebView    0   1  \n",
       "3   Samsung SM-A705FN            6               Facebook    0   0  \n",
       "4  Generic Smartphone            6          Chrome Mobile    0   0  "
      ]
     },
     "execution_count": 42,
     "metadata": {},
     "output_type": "execute_result"
    }
   ],
   "source": [
    "# Preview data\n",
    "data.head()"
   ]
  },
  {
   "cell_type": "code",
   "execution_count": 43,
   "metadata": {},
   "outputs": [
    {
     "data": {
      "text/plain": [
       "8077"
      ]
     },
     "execution_count": 43,
     "metadata": {},
     "output_type": "execute_result"
    }
   ],
   "source": [
    "# Check if user ID column values are unique\n",
    "data[\"auction_id\"].nunique()"
   ]
  },
  {
   "cell_type": "code",
   "execution_count": 44,
   "metadata": {},
   "outputs": [
    {
     "data": {
      "text/plain": [
       "control    0.504024\n",
       "exposed    0.495976\n",
       "Name: experiment, dtype: float64"
      ]
     },
     "execution_count": 44,
     "metadata": {},
     "output_type": "execute_result"
    }
   ],
   "source": [
    "# Check proportion of \"experiment\" column values\n",
    "data[\"experiment\"].value_counts(normalize=True)"
   ]
  },
  {
   "cell_type": "code",
   "execution_count": 45,
   "metadata": {},
   "outputs": [],
   "source": [
    "# Ensure equal proportion of \"experiment\" column values\n",
    "g = data.groupby(\"experiment\")\n",
    "data = g.apply(lambda x: x.sample(g.size().min())).reset_index(drop=True)"
   ]
  },
  {
   "cell_type": "code",
   "execution_count": 46,
   "metadata": {},
   "outputs": [],
   "source": [
    "# Create \"engaged\" column to track user engagement\n",
    "data[\"engaged\"] = data[\"yes\"].copy()"
   ]
  },
  {
   "cell_type": "markdown",
   "metadata": {},
   "source": [
    "##### Formulating hypothesis"
   ]
  },
  {
   "cell_type": "markdown",
   "metadata": {},
   "source": [
    "We want to test if there is a statistical difference in user engagement for a dummy advertisement and an advertisement designed by the agency. We will formally define our hypothesis using a two-tailed test as follows:\n",
    "\n",
    "$H_0: p = p_0$\n",
    "\n",
    "$H_a: p \\neq p_0$\n",
    "\n",
    "where $p$ and $p_0$ represent user engagement of the dummy advertisement and the agency's new advertisement, respectively. $H_0$ is our null hypothesis that claims the engagement between the two advertisements is roughly the same. We also will use a threshold $\\alpha$ of 0.05. Our confidence level $(1-\\alpha)$ is accordingly 95%. If we obtain a p-value (a measure of how likely the observed results were due to chance only) lower than $\\alpha$, we would reject the null hypothesis."
   ]
  },
  {
   "cell_type": "markdown",
   "metadata": {},
   "source": [
    "##### Determining independent and dependent variables"
   ]
  },
  {
   "cell_type": "markdown",
   "metadata": {},
   "source": [
    "We can use the `experiment` column as our independent variable. We can use this column to determine which individuals are part of the control group, or the group showed the dummy ad, and which individuals are part of the treatment group, or the group shown the agency's new advertisement. We will  create subsets of the original data based off these two groups.\n",
    "\n",
    "We can use the `engaged` column as our dependent variable. If the user did not engage with the advertisement, the column value would be 0. If the user did engage with the advertisement, the column value would be 1."
   ]
  },
  {
   "cell_type": "markdown",
   "metadata": {},
   "source": [
    "##### Preparing data"
   ]
  },
  {
   "cell_type": "code",
   "execution_count": 47,
   "metadata": {},
   "outputs": [],
   "source": [
    "# Split data\n",
    "control_subset = data.loc[data[\"experiment\"] == \"control\"]\n",
    "treatment_subset = data.loc[data[\"experiment\"] == \"exposed\"]"
   ]
  },
  {
   "cell_type": "code",
   "execution_count": 49,
   "metadata": {},
   "outputs": [
    {
     "data": {
      "text/html": [
       "<style  type=\"text/css\" >\n",
       "</style><table id=\"T_205b9070_c9c1_11ec_b112_f218981b757f\" ><thead>    <tr>        <th class=\"blank level0\" ></th>        <th class=\"col_heading level0 col0\" >engagement</th>        <th class=\"col_heading level0 col1\" >std_deviation</th>        <th class=\"col_heading level0 col2\" >std_error</th>    </tr>    <tr>        <th class=\"index_name level0\" >experiment</th>        <th class=\"blank\" ></th>        <th class=\"blank\" ></th>        <th class=\"blank\" ></th>    </tr></thead><tbody>\n",
       "                <tr>\n",
       "                        <th id=\"T_205b9070_c9c1_11ec_b112_f218981b757flevel0_row0\" class=\"row_heading level0 row0\" >control</th>\n",
       "                        <td id=\"T_205b9070_c9c1_11ec_b112_f218981b757frow0_col0\" class=\"data row0 col0\" >0.064</td>\n",
       "                        <td id=\"T_205b9070_c9c1_11ec_b112_f218981b757frow0_col1\" class=\"data row0 col1\" >0.245</td>\n",
       "                        <td id=\"T_205b9070_c9c1_11ec_b112_f218981b757frow0_col2\" class=\"data row0 col2\" >0.004</td>\n",
       "            </tr>\n",
       "            <tr>\n",
       "                        <th id=\"T_205b9070_c9c1_11ec_b112_f218981b757flevel0_row1\" class=\"row_heading level0 row1\" >exposed</th>\n",
       "                        <td id=\"T_205b9070_c9c1_11ec_b112_f218981b757frow1_col0\" class=\"data row1 col0\" >0.077</td>\n",
       "                        <td id=\"T_205b9070_c9c1_11ec_b112_f218981b757frow1_col1\" class=\"data row1 col1\" >0.266</td>\n",
       "                        <td id=\"T_205b9070_c9c1_11ec_b112_f218981b757frow1_col2\" class=\"data row1 col2\" >0.004</td>\n",
       "            </tr>\n",
       "    </tbody></table>"
      ],
      "text/plain": [
       "<pandas.io.formats.style.Styler at 0x7fc10c934e50>"
      ]
     },
     "execution_count": 49,
     "metadata": {},
     "output_type": "execute_result"
    }
   ],
   "source": [
    "# Proportion standard deviation\n",
    "prop_std_dev = lambda x: np.std(x)\n",
    "\n",
    "# Proportion standard error\n",
    "prop_std_error = lambda x: stats.sem(x)\n",
    "\n",
    "# Generate basic statistics on engagement\n",
    "engagement = data.groupby(\"experiment\")[\"engaged\"].agg(\n",
    "    [np.mean, prop_std_dev, prop_std_error]\n",
    ")\n",
    "engagement.columns = ['engagement', 'std_deviation', 'std_error']\n",
    "engagement.style.format('{:.3f}')"
   ]
  },
  {
   "cell_type": "markdown",
   "metadata": {},
   "source": [
    "##### Testing hypothesis"
   ]
  },
  {
   "cell_type": "markdown",
   "metadata": {},
   "source": [
    "Because our sample size is very large $(n >= 30)$ and are independent of one another (one user's advertisement engagement does not affect another user's advertisement engagement), we can perform a z-test to calculate our p-value."
   ]
  },
  {
   "cell_type": "code",
   "execution_count": 52,
   "metadata": {},
   "outputs": [
    {
     "name": "stdout",
     "output_type": "stream",
     "text": [
      "z-score: -2.27\n",
      "p-value: 0.023\n",
      "95% confidence interval for control group: [0.056, 0.071]\n",
      "95% confidence interval for treatment group: [0.069, 0.085]\n"
     ]
    }
   ],
   "source": [
    "# Split results based off of experiment\n",
    "control_results = data[data[\"experiment\"] == \"control\"][\"engaged\"]\n",
    "treatment_results = data[data[\"experiment\"] == \"exposed\"][\"engaged\"]\n",
    "\n",
    "# Get sums of successful engagement dependent on advertisement type\n",
    "n_control = control_results.count()\n",
    "n_treatment = treatment_results.count()\n",
    "successes = [control_results.sum(), treatment_results.sum()]\n",
    "n_observations = [n_control, n_treatment]\n",
    "\n",
    "# Calculate z-score and our p-value\n",
    "z_score, p_val = proportions_ztest(successes, nobs=n_observations)\n",
    "\n",
    "# Calculate confidence intervals\n",
    "(lower_control, lower_treatment), (upper_control, upper_treatment) = (\n",
    "    proportion_confint(successes, nobs=n_observations, alpha=0.05)\n",
    ")\n",
    "\n",
    "# Print values\n",
    "print(f\"z-score: {z_score:.2f}\")\n",
    "print(f\"p-value: {p_val:.3f}\")\n",
    "print(\n",
    "    f\"95% confidence interval for control group:\",\n",
    "    f\"[{lower_control:.3f}, {upper_control:.3f}]\"\n",
    ")\n",
    "print(\n",
    "    f\"95% confidence interval for treatment group:\",\n",
    "    f\"[{lower_treatment:.3f}, {upper_treatment:.3f}]\"\n",
    ")"
   ]
  },
  {
   "cell_type": "markdown",
   "metadata": {},
   "source": [
    "##### Reviewing results"
   ]
  },
  {
   "cell_type": "markdown",
   "metadata": {},
   "source": [
    "Because our p-value is lower than our $\\alpha$ of 0.05, we have strong evidence against the null hypothesis that the dummy advertisement and the advertisement designed by the agency have the same level of engagement.\n",
    "\n",
    "We would need to perform further analysis to determine if the advertisement was necessarily more effective or worse than the dummy advertisement, however."
   ]
  }
 ],
 "metadata": {
  "interpreter": {
   "hash": "6c01efea219ea0303b6e6cd1897665114cc62146ed112ea21ec489238fdae255"
  },
  "kernelspec": {
   "display_name": "Python 3.9.7",
   "language": "python",
   "name": "python3"
  },
  "language_info": {
   "codemirror_mode": {
    "name": "ipython",
    "version": 3
   },
   "file_extension": ".py",
   "mimetype": "text/x-python",
   "name": "python",
   "nbconvert_exporter": "python",
   "pygments_lexer": "ipython3",
   "version": "3.8.3"
  },
  "orig_nbformat": 4
 },
 "nbformat": 4,
 "nbformat_minor": 2
}
